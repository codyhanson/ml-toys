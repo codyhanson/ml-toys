{
 "cells": [
  {
   "cell_type": "markdown",
   "metadata": {},
   "source": [
    "# Training Models - Ch4\n",
    "We'll do more than just treat models as black boxes in this chapter.\n",
    "\n"
   ]
  },
  {
   "cell_type": "code",
   "execution_count": 14,
   "metadata": {},
   "outputs": [
    {
     "data": {
      "text/html": [
       "<div>\n",
       "<style scoped>\n",
       "    .dataframe tbody tr th:only-of-type {\n",
       "        vertical-align: middle;\n",
       "    }\n",
       "\n",
       "    .dataframe tbody tr th {\n",
       "        vertical-align: top;\n",
       "    }\n",
       "\n",
       "    .dataframe thead th {\n",
       "        text-align: right;\n",
       "    }\n",
       "</style>\n",
       "<table border=\"1\" class=\"dataframe\">\n",
       "  <thead>\n",
       "    <tr style=\"text-align: right;\">\n",
       "      <th></th>\n",
       "      <th>0</th>\n",
       "    </tr>\n",
       "  </thead>\n",
       "  <tbody>\n",
       "    <tr>\n",
       "      <th>0</th>\n",
       "      <td>1</td>\n",
       "    </tr>\n",
       "    <tr>\n",
       "      <th>1</th>\n",
       "      <td>3</td>\n",
       "    </tr>\n",
       "    <tr>\n",
       "      <th>2</th>\n",
       "      <td>-5</td>\n",
       "    </tr>\n",
       "  </tbody>\n",
       "</table>\n",
       "</div>"
      ],
      "text/plain": [
       "   0\n",
       "0  1\n",
       "1  3\n",
       "2 -5"
      ]
     },
     "execution_count": 14,
     "metadata": {},
     "output_type": "execute_result"
    }
   ],
   "source": [
    "#Linear Algebra micro review\n",
    "import pandas as pd\n",
    "\n",
    "#Dot Product of vector\n",
    "vec = pd.DataFrame([1,3,-5])\n",
    "vec"
   ]
  },
  {
   "cell_type": "code",
   "execution_count": 15,
   "metadata": {},
   "outputs": [
    {
     "data": {
      "text/html": [
       "<div>\n",
       "<style scoped>\n",
       "    .dataframe tbody tr th:only-of-type {\n",
       "        vertical-align: middle;\n",
       "    }\n",
       "\n",
       "    .dataframe tbody tr th {\n",
       "        vertical-align: top;\n",
       "    }\n",
       "\n",
       "    .dataframe thead th {\n",
       "        text-align: right;\n",
       "    }\n",
       "</style>\n",
       "<table border=\"1\" class=\"dataframe\">\n",
       "  <thead>\n",
       "    <tr style=\"text-align: right;\">\n",
       "      <th></th>\n",
       "      <th>0</th>\n",
       "      <th>1</th>\n",
       "      <th>2</th>\n",
       "    </tr>\n",
       "  </thead>\n",
       "  <tbody>\n",
       "    <tr>\n",
       "      <th>0</th>\n",
       "      <td>1</td>\n",
       "      <td>3</td>\n",
       "      <td>-5</td>\n",
       "    </tr>\n",
       "  </tbody>\n",
       "</table>\n",
       "</div>"
      ],
      "text/plain": [
       "   0  1  2\n",
       "0  1  3 -5"
      ]
     },
     "execution_count": 15,
     "metadata": {},
     "output_type": "execute_result"
    }
   ],
   "source": [
    "vec.T"
   ]
  },
  {
   "cell_type": "code",
   "execution_count": 16,
   "metadata": {},
   "outputs": [
    {
     "data": {
      "text/html": [
       "<div>\n",
       "<style scoped>\n",
       "    .dataframe tbody tr th:only-of-type {\n",
       "        vertical-align: middle;\n",
       "    }\n",
       "\n",
       "    .dataframe tbody tr th {\n",
       "        vertical-align: top;\n",
       "    }\n",
       "\n",
       "    .dataframe thead th {\n",
       "        text-align: right;\n",
       "    }\n",
       "</style>\n",
       "<table border=\"1\" class=\"dataframe\">\n",
       "  <thead>\n",
       "    <tr style=\"text-align: right;\">\n",
       "      <th></th>\n",
       "      <th>0</th>\n",
       "    </tr>\n",
       "  </thead>\n",
       "  <tbody>\n",
       "    <tr>\n",
       "      <th>0</th>\n",
       "      <td>3</td>\n",
       "    </tr>\n",
       "  </tbody>\n",
       "</table>\n",
       "</div>"
      ],
      "text/plain": [
       "   0\n",
       "0  3"
      ]
     },
     "execution_count": 16,
     "metadata": {},
     "output_type": "execute_result"
    }
   ],
   "source": [
    "vec.T.dot(pd.DataFrame([4,-2,-1]))"
   ]
  },
  {
   "cell_type": "markdown",
   "metadata": {},
   "source": [
    "## Linear Regression\n",
    "Generalized, it is an equation for a line where the \"mx\" part (of y = mx + b) is a weighted sum of input features.\n",
    "\n",
    "To train a linear model, you find values of theta that minimize error metric. Most commonly for linear that is RMSE (root mean square error). Or use MSE, since it is easier.\n",
    "\n",
    "The **Normal Equation** is solved for theta^ directly, and is written in terms of X and y. It is \"closed-form\"."
   ]
  },
  {
   "cell_type": "code",
   "execution_count": 22,
   "metadata": {},
   "outputs": [],
   "source": [
    "# We'll generate data to play with this idea.\n",
    "import numpy as np\n",
    "import matplotlib\n",
    "import matplotlib.pyplot as plt\n",
    "X = 2 * np.random.rand(100,1)\n",
    "y = 4 + 3 * X + np.random.randn(100,1)\n",
    "# our random generated linear dataset."
   ]
  },
  {
   "cell_type": "code",
   "execution_count": 39,
   "metadata": {},
   "outputs": [
    {
     "data": {
      "text/plain": [
       "(array([[1.56015766],\n",
       "        [0.00825418],\n",
       "        [1.79513956],\n",
       "        [0.45158773],\n",
       "        [1.54348488],\n",
       "        [1.29185483],\n",
       "        [1.26197073],\n",
       "        [1.51636216],\n",
       "        [1.68668401],\n",
       "        [0.14182611],\n",
       "        [1.22599744],\n",
       "        [0.64136052],\n",
       "        [1.04460438],\n",
       "        [0.60475216],\n",
       "        [0.30620747],\n",
       "        [1.55474975],\n",
       "        [0.71017747],\n",
       "        [0.07195875],\n",
       "        [0.08500955],\n",
       "        [0.69513567],\n",
       "        [1.17635102],\n",
       "        [1.11564096],\n",
       "        [1.48726188],\n",
       "        [1.03511265],\n",
       "        [0.94807118],\n",
       "        [1.00017036],\n",
       "        [1.78000004],\n",
       "        [0.82750811],\n",
       "        [1.40636945],\n",
       "        [0.6794036 ],\n",
       "        [0.96599975],\n",
       "        [0.85685211],\n",
       "        [0.70888888],\n",
       "        [1.20777568],\n",
       "        [0.31073021],\n",
       "        [1.97847359],\n",
       "        [0.42101168],\n",
       "        [0.06428027],\n",
       "        [0.35234656],\n",
       "        [1.51879509],\n",
       "        [0.76987411],\n",
       "        [1.32230985],\n",
       "        [0.82492445],\n",
       "        [1.74914647],\n",
       "        [0.59930956],\n",
       "        [1.84526312],\n",
       "        [0.47419848],\n",
       "        [0.98435978],\n",
       "        [1.59235272],\n",
       "        [1.94703596],\n",
       "        [1.02068625],\n",
       "        [0.83139449],\n",
       "        [0.02952926],\n",
       "        [0.78094865],\n",
       "        [1.02023213],\n",
       "        [0.1256068 ],\n",
       "        [1.45703696],\n",
       "        [1.1131772 ],\n",
       "        [0.31935111],\n",
       "        [1.98587304],\n",
       "        [1.25847854],\n",
       "        [1.63988632],\n",
       "        [1.10257035],\n",
       "        [1.50494792],\n",
       "        [1.5539983 ],\n",
       "        [0.28505091],\n",
       "        [0.19668229],\n",
       "        [0.27363589],\n",
       "        [1.99218993],\n",
       "        [0.83269536],\n",
       "        [1.19519694],\n",
       "        [0.2953159 ],\n",
       "        [1.68798524],\n",
       "        [1.87528405],\n",
       "        [1.65359077],\n",
       "        [1.73925617],\n",
       "        [1.12789844],\n",
       "        [1.19635673],\n",
       "        [1.37765649],\n",
       "        [0.37876254],\n",
       "        [0.47509716],\n",
       "        [1.89321813],\n",
       "        [1.36914426],\n",
       "        [0.84116627],\n",
       "        [0.05017387],\n",
       "        [1.9336013 ],\n",
       "        [0.49362684],\n",
       "        [0.78758408],\n",
       "        [1.32859178],\n",
       "        [0.22628809],\n",
       "        [1.98949103],\n",
       "        [0.40651976],\n",
       "        [1.010865  ],\n",
       "        [1.66727274],\n",
       "        [1.54580492],\n",
       "        [0.56349889],\n",
       "        [0.60760669],\n",
       "        [1.07897451],\n",
       "        [1.24600409],\n",
       "        [1.27732073]]), array([[ 8.0527358 ],\n",
       "        [ 5.5176682 ],\n",
       "        [11.54726707],\n",
       "        [ 6.90725908],\n",
       "        [ 9.6566972 ],\n",
       "        [ 7.57072137],\n",
       "        [ 8.10155673],\n",
       "        [ 7.66944444],\n",
       "        [ 8.89284103],\n",
       "        [ 4.67938056],\n",
       "        [ 7.71621143],\n",
       "        [ 6.71002677],\n",
       "        [ 7.58125568],\n",
       "        [ 7.45106432],\n",
       "        [ 5.34438374],\n",
       "        [ 8.13753402],\n",
       "        [ 6.52818953],\n",
       "        [ 4.31332536],\n",
       "        [ 6.05631145],\n",
       "        [ 5.19621799],\n",
       "        [ 8.09597488],\n",
       "        [ 8.99683166],\n",
       "        [ 8.35662875],\n",
       "        [ 6.87265899],\n",
       "        [ 5.27187424],\n",
       "        [ 5.82621062],\n",
       "        [10.11081897],\n",
       "        [ 6.64599175],\n",
       "        [ 7.26079927],\n",
       "        [ 6.77176218],\n",
       "        [ 7.74007798],\n",
       "        [ 5.71030494],\n",
       "        [ 4.12165719],\n",
       "        [ 6.87583267],\n",
       "        [ 4.14056182],\n",
       "        [11.00974468],\n",
       "        [ 5.92880656],\n",
       "        [ 3.9153848 ],\n",
       "        [ 4.00856364],\n",
       "        [ 8.41799643],\n",
       "        [ 5.4723334 ],\n",
       "        [ 6.97695624],\n",
       "        [ 6.37893136],\n",
       "        [11.69405799],\n",
       "        [ 5.00729078],\n",
       "        [ 9.18441792],\n",
       "        [ 6.06774141],\n",
       "        [ 6.67585288],\n",
       "        [ 9.69877468],\n",
       "        [10.45279355],\n",
       "        [ 7.97242069],\n",
       "        [ 5.25512259],\n",
       "        [ 4.26934699],\n",
       "        [ 7.79223199],\n",
       "        [ 6.49502833],\n",
       "        [ 4.99881478],\n",
       "        [ 7.56043313],\n",
       "        [ 6.12974488],\n",
       "        [ 5.47722965],\n",
       "        [ 9.3354768 ],\n",
       "        [ 6.66495303],\n",
       "        [ 7.46836975],\n",
       "        [ 8.60542131],\n",
       "        [ 6.60248786],\n",
       "        [ 9.55403535],\n",
       "        [ 5.72249463],\n",
       "        [ 4.24049471],\n",
       "        [ 5.46582848],\n",
       "        [ 8.00882346],\n",
       "        [ 6.07278405],\n",
       "        [ 7.57051871],\n",
       "        [ 6.12485957],\n",
       "        [ 8.74764657],\n",
       "        [ 9.61618854],\n",
       "        [ 9.72904751],\n",
       "        [10.26247346],\n",
       "        [ 6.93660291],\n",
       "        [ 8.14829025],\n",
       "        [ 7.04299059],\n",
       "        [ 5.03009761],\n",
       "        [ 5.75723839],\n",
       "        [ 8.4235271 ],\n",
       "        [ 8.1952877 ],\n",
       "        [ 4.30631037],\n",
       "        [ 3.56549029],\n",
       "        [ 8.34653462],\n",
       "        [ 4.83129686],\n",
       "        [ 6.48088487],\n",
       "        [ 7.36846962],\n",
       "        [ 3.85613356],\n",
       "        [ 9.86013304],\n",
       "        [ 4.51259446],\n",
       "        [ 5.51794041],\n",
       "        [ 8.59168676],\n",
       "        [ 8.19288322],\n",
       "        [ 4.94414675],\n",
       "        [ 6.71605334],\n",
       "        [ 6.81400039],\n",
       "        [ 5.59686858],\n",
       "        [ 7.90181686]]))"
      ]
     },
     "execution_count": 39,
     "metadata": {},
     "output_type": "execute_result"
    }
   ],
   "source": [
    "X, y"
   ]
  },
  {
   "cell_type": "code",
   "execution_count": 24,
   "metadata": {},
   "outputs": [
    {
     "data": {
      "image/png": "[encoded data removed]",
      "text/plain": [
       "<Figure size 432x288 with 1 Axes>"
      ]
     },
     "metadata": {},
     "output_type": "display_data"
    }
   ],
   "source": [
    "plt.plot(X, y, \"b.\")\n",
    "plt.xlabel(\"$x_1$\", fontsize=18)\n",
    "plt.ylabel(\"$y$\", rotation=0, fontsize=18)\n",
    "plt.axis([0, 2, 0, 15])\n",
    "plt.show()"
   ]
  },
  {
   "cell_type": "code",
   "execution_count": 26,
   "metadata": {},
   "outputs": [
    {
     "data": {
      "text/plain": [
       "array([[4.14311814],\n",
       "       [2.77930597]])"
      ]
     },
     "execution_count": 26,
     "metadata": {},
     "output_type": "execute_result"
    }
   ],
   "source": [
    "X_b = np.c_[np.ones((100,1)), X] #adds x0 = 1 to each instance, for dot product and matrix sizing i presume.\n",
    "theta_best = np.linalg.inv(X_b.T.dot(X_b)).dot(X_b.T).dot(y)\n",
    "theta_best"
   ]
  },
  {
   "cell_type": "code",
   "execution_count": 34,
   "metadata": {},
   "outputs": [
    {
     "data": {
      "text/plain": [
       "array([[ 0.0430215 , -0.03212514],\n",
       "       [-0.03212514,  0.03125311]])"
      ]
     },
     "execution_count": 34,
     "metadata": {},
     "output_type": "execute_result"
    }
   ],
   "source": [
    "np.linalg.inv(X_b.T.dot(X_b))"
   ]
  },
  {
   "cell_type": "code",
   "execution_count": 35,
   "metadata": {},
   "outputs": [
    {
     "data": {
      "text/plain": [
       "array([[100.        , 102.79021769],\n",
       "       [102.79021769, 137.65510727]])"
      ]
     },
     "execution_count": 35,
     "metadata": {},
     "output_type": "execute_result"
    }
   ],
   "source": [
    "X_b.T.dot(X_b)"
   ]
  },
  {
   "cell_type": "markdown",
   "metadata": {},
   "source": [
    "Here we used the normal equation to solve for theta. Ideally theta would be 4 and 3, since that is what we used to generate the noise."
   ]
  },
  {
   "cell_type": "code",
   "execution_count": 27,
   "metadata": {},
   "outputs": [
    {
     "data": {
      "text/plain": [
       "array([[4.14311814],\n",
       "       [9.70173007]])"
      ]
     },
     "execution_count": 27,
     "metadata": {},
     "output_type": "execute_result"
    }
   ],
   "source": [
    "#Make predictions against our model and plot.\n",
    "X_new = np.array([[0],[2]])\n",
    "X_new_b = np.c_[np.ones((2,1)), X_new]\n",
    "y_predict = X_new_b.dot(theta_best)\n",
    "y_predict"
   ]
  },
  {
   "cell_type": "code",
   "execution_count": 28,
   "metadata": {},
   "outputs": [
    {
     "data": {
      "image/png": "[encoded data removed]",
      "text/plain": [
       "<Figure size 432x288 with 1 Axes>"
      ]
     },
     "metadata": {},
     "output_type": "display_data"
    }
   ],
   "source": [
    "plt.plot(X_new, y_predict, \"r-\")\n",
    "plt.plot(X,y, \"b.\")\n",
    "plt.axis([0,2,0,15])\n",
    "plt.show()"
   ]
  },
  {
   "cell_type": "code",
   "execution_count": 37,
   "metadata": {},
   "outputs": [
    {
     "data": {
      "text/plain": [
       "(array([4.14311814]), array([[2.77930597]]))"
      ]
     },
     "execution_count": 37,
     "metadata": {},
     "output_type": "execute_result"
    }
   ],
   "source": [
    "#Same regression with Sklearn\n",
    "from sklearn.linear_model import LinearRegression\n",
    "lin_reg = LinearRegression()\n",
    "lin_reg.fit(X,y)\n",
    "lin_reg.intercept_, lin_reg.coef_"
   ]
  },
  {
   "cell_type": "code",
   "execution_count": 38,
   "metadata": {},
   "outputs": [
    {
     "data": {
      "text/plain": [
       "array([[4.14311814],\n",
       "       [9.70173007]])"
      ]
     },
     "execution_count": 38,
     "metadata": {},
     "output_type": "execute_result"
    }
   ],
   "source": [
    "lin_reg.predict(X_new)"
   ]
  },
  {
   "cell_type": "markdown",
   "metadata": {},
   "source": [
    "## Gradient Descent\n",
    "Tweak parameters iteratively in order to minimize a cost function. (finds local/global mins)\n",
    "\n",
    "Practically speaking, you can fill theta (your model parameters) with random numbers and start changing them gradually to minimize the MSE. The number of steps you take is the learning rate hyperparam. learning rate too low and it takes too long, too high and you might jump across a valley and miss the minimum.\n",
    "\n",
    "### Tip\n",
    "For gradient descent, ensure you've used something like `sklearn StandardScaler` to ensure features are similar scale. This helps speed up convergence.\n",
    "\n",
    "### Batch Gradient Descent\n",
    "We are essentially computing partial derivatives with respect to each model parameter (thetas). AKA how much will the cost function change, if I change this input param just a little bit.\n",
    "\n",
    "It is called \"Batch\" because the entire training set is used in the computation for each gradient step. (to compute all the partial derivatives)\n",
    "\n",
    "The gradients point \"up hill\" which is why we subtract."
   ]
  },
  {
   "cell_type": "code",
   "execution_count": 46,
   "metadata": {},
   "outputs": [],
   "source": [
    "#Example gradient Descent.\n",
    "eta = 0.1 #learning rate\n",
    "n_iterations = 1000\n",
    "m = 100\n",
    "theta = np.random.randn(2,1) #random initialization."
   ]
  },
  {
   "cell_type": "code",
   "execution_count": 47,
   "metadata": {},
   "outputs": [],
   "source": [
    "for iteration in range(n_iterations):\n",
    "    gradients = 2/m * X_b.T.dot(X_b.dot(theta) - y)\n",
    "    theta = theta - eta * gradients"
   ]
  },
  {
   "cell_type": "code",
   "execution_count": 48,
   "metadata": {},
   "outputs": [
    {
     "data": {
      "text/plain": [
       "array([[4.14311814],\n",
       "       [2.77930597]])"
      ]
     },
     "execution_count": 48,
     "metadata": {},
     "output_type": "execute_result"
    }
   ],
   "source": [
    "theta # It worked!"
   ]
  },
  {
   "cell_type": "markdown",
   "metadata": {},
   "source": [
    "### Stocahstic Gradient Descent\n",
    "Much faster than batch since it doesn't use the entire traning set at each step. Once the algorithm stops, the parameter values it found are simply \"good\", but not guaranteed to be optimal. The randomness also helps it find the global minimum, if the cost function is not convex.\n",
    "\n",
    "This is also called \"simulated annealing\".\n",
    "\n",
    "The \"learning schedule\" determines what the learning rate will be at each iteration."
   ]
  },
  {
   "cell_type": "code",
   "execution_count": 53,
   "metadata": {},
   "outputs": [],
   "source": [
    "n_epochs = 50\n",
    "t0, t1 = 5, 50 #learning schedule hyperparams.\n",
    "\n",
    "def learning_schedule(t):\n",
    "    return t0 / (t + t1)\n",
    "\n",
    "theta = np.random.randn(2,1) #random init\n",
    "\n",
    "for epoch in range(n_epochs):\n",
    "    for i in range(m):\n",
    "        random_index = np.random.randint(m)\n",
    "        xi = X_b[random_index:random_index+1]\n",
    "        yi = y[random_index:random_index+1]\n",
    "        gradients = 2 * xi.T.dot(xi.dot(theta) - yi)\n",
    "        eta = learning_schedule(epoch * m + i)\n",
    "        theta = theta - eta * gradients"
   ]
  },
  {
   "cell_type": "code",
   "execution_count": 54,
   "metadata": {},
   "outputs": [
    {
     "data": {
      "text/plain": [
       "array([[4.08712386],\n",
       "       [2.76558834]])"
      ]
     },
     "execution_count": 54,
     "metadata": {},
     "output_type": "execute_result"
    }
   ],
   "source": [
    "theta"
   ]
  },
  {
   "cell_type": "markdown",
   "metadata": {},
   "source": [
    "Similar good results to batch but we only had to iterate 50 times (50 \"epochs\")."
   ]
  },
  {
   "cell_type": "code",
   "execution_count": 56,
   "metadata": {},
   "outputs": [
    {
     "name": "stderr",
     "output_type": "stream",
     "text": [
      "/home/clh/anaconda3/envs/tensorflow/lib/python3.6/site-packages/sklearn/linear_model/stochastic_gradient.py:117: DeprecationWarning: n_iter parameter is deprecated in 0.19 and will be removed in 0.21. Use max_iter and tol instead.\n",
      "  DeprecationWarning)\n"
     ]
    },
    {
     "data": {
      "text/plain": [
       "SGDRegressor(alpha=0.0001, average=False, epsilon=0.1, eta0=0.1,\n",
       "       fit_intercept=True, l1_ratio=0.15, learning_rate='invscaling',\n",
       "       loss='squared_loss', max_iter=None, n_iter=50, penalty=None,\n",
       "       power_t=0.25, random_state=None, shuffle=True, tol=None, verbose=0,\n",
       "       warm_start=False)"
      ]
     },
     "execution_count": 56,
     "metadata": {},
     "output_type": "execute_result"
    }
   ],
   "source": [
    "# Stochastic Gradient Descent using sklearn\n",
    "from sklearn.linear_model import SGDRegressor\n",
    "sgd_reg = SGDRegressor(n_iter=50, penalty=None, eta0=0.1)\n",
    "sgd_reg.fit(X,y.ravel())"
   ]
  },
  {
   "cell_type": "code",
   "execution_count": 57,
   "metadata": {},
   "outputs": [
    {
     "data": {
      "text/plain": [
       "(array([4.20067249]), array([2.86236233]))"
      ]
     },
     "execution_count": 57,
     "metadata": {},
     "output_type": "execute_result"
    }
   ],
   "source": [
    "sgd_reg.intercept_, sgd_reg.coef_"
   ]
  },
  {
   "cell_type": "markdown",
   "metadata": {},
   "source": [
    "### Mini Batch\n",
    "sort of a combo of Batch and Stochastic. compute gradient at each step by randomly selecting small subset of instances from training set."
   ]
  },
  {
   "cell_type": "markdown",
   "metadata": {},
   "source": [
    "## Polynomial Regression"
   ]
  },
  {
   "cell_type": "code",
   "execution_count": 58,
   "metadata": {},
   "outputs": [],
   "source": [
    "m = 100\n",
    "X = 6 * np.random.rand(m,1) -3\n",
    "y = 0.5 * X**2 + X + 2 + np.random.randn(m, 1)"
   ]
  },
  {
   "cell_type": "code",
   "execution_count": 60,
   "metadata": {},
   "outputs": [
    {
     "data": {
      "image/png": "[encoded data removed]",
      "text/plain": [
       "<Figure size 432x288 with 1 Axes>"
      ]
     },
     "metadata": {},
     "output_type": "display_data"
    }
   ],
   "source": [
    "plt.plot(X,y, \"b.\")\n",
    "plt.show()"
   ]
  },
  {
   "cell_type": "code",
   "execution_count": 62,
   "metadata": {},
   "outputs": [
    {
     "data": {
      "text/plain": [
       "array([-1.91116883])"
      ]
     },
     "execution_count": 62,
     "metadata": {},
     "output_type": "execute_result"
    }
   ],
   "source": [
    "# A simple straight line won't fit this, so lets use PolynomialFeatures\n",
    "from sklearn.preprocessing import PolynomialFeatures\n",
    "poly_features = PolynomialFeatures(degree=2, include_bias=False)\n",
    "X_poly = poly_features.fit_transform(X)\n",
    "X[0]"
   ]
  },
  {
   "cell_type": "code",
   "execution_count": 64,
   "metadata": {},
   "outputs": [
    {
     "data": {
      "text/plain": [
       "array([-1.91116883,  3.65256628])"
      ]
     },
     "execution_count": 64,
     "metadata": {},
     "output_type": "execute_result"
    }
   ],
   "source": [
    "X_poly[0] #added the square of X to the dataset."
   ]
  },
  {
   "cell_type": "code",
   "execution_count": 66,
   "metadata": {},
   "outputs": [
    {
     "data": {
      "text/plain": [
       "(array([2.03644556]), array([[0.98820479, 0.49802663]]))"
      ]
     },
     "execution_count": 66,
     "metadata": {},
     "output_type": "execute_result"
    }
   ],
   "source": [
    "#Now we can fit a standard linear regression onto this polynomial data.\n",
    "lin_reg = LinearRegression()\n",
    "lin_reg.fit(X_poly, y)\n",
    "lin_reg.intercept_, lin_reg.coef_\n"
   ]
  },
  {
   "cell_type": "markdown",
   "metadata": {},
   "source": [
    "Not too bad, since the original function was `y = 0.5 * X**2 + X + 2 + np.random.randn(m, 1)`"
   ]
  },
  {
   "cell_type": "markdown",
   "metadata": {},
   "source": [
    "### Learning Curves\n",
    "\n",
    "How do you determine what type of curve to fit your data? (aka which degree polynomial)."
   ]
  },
  {
   "cell_type": "code",
   "execution_count": null,
   "metadata": {},
   "outputs": [],
   "source": []
  }
 ],
 "metadata": {
  "kernelspec": {
   "display_name": "Python 3",
   "language": "python",
   "name": "python3"
  },
  "language_info": {
   "codemirror_mode": {
    "name": "ipython",
    "version": 3
   },
   "file_extension": ".py",
   "mimetype": "text/x-python",
   "name": "python",
   "nbconvert_exporter": "python",
   "pygments_lexer": "ipython3",
   "version": "3.6.5"
  }
 },
 "nbformat": 4,
 "nbformat_minor": 2
}
